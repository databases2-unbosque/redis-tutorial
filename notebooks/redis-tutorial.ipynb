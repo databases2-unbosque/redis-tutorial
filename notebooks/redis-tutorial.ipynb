{
 "cells": [
  {
   "cell_type": "code",
   "execution_count": null,
   "metadata": {},
   "outputs": [],
   "source": [
    "import redis"
   ]
  },
  {
   "cell_type": "code",
   "execution_count": null,
   "metadata": {},
   "outputs": [],
   "source": [
    "# Creating Redis connection\n",
    "r = redis.Redis(host = \"127.0.0.1\", port = 6379)"
   ]
  },
  {
   "cell_type": "code",
   "execution_count": null,
   "metadata": {},
   "outputs": [],
   "source": [
    "# Setting a simple key-value\n",
    "r.set(\"message\", \"Hello world!\")"
   ]
  },
  {
   "cell_type": "code",
   "execution_count": null,
   "metadata": {},
   "outputs": [],
   "source": [
    "# Getting a value by key\n",
    "r.get(\"message\")"
   ]
  },
  {
   "cell_type": "code",
   "execution_count": null,
   "metadata": {},
   "outputs": [],
   "source": [
    "# Value must be decoded from bytes\n",
    "r.get(\"message\").decode(\"utf-8\") "
   ]
  },
  {
   "cell_type": "code",
   "execution_count": null,
   "metadata": {},
   "outputs": [],
   "source": [
    "# Getting the value type by key\n",
    "r.type(\"message\").decode(\"utf-8\") "
   ]
  },
  {
   "cell_type": "code",
   "execution_count": null,
   "metadata": {},
   "outputs": [],
   "source": [
    "# Appending values to a list\n",
    "r.rpush(\"mycourses\", \"Programming 2\")\n",
    "r.rpush(\"mycourses\", \"Databases 2\")\n",
    "r.rpush(\"mycourses\", \"Big Data\")\n",
    "r.rpush(\"mycourses\", \"Data Science\")"
   ]
  },
  {
   "cell_type": "code",
   "execution_count": null,
   "metadata": {},
   "outputs": [],
   "source": [
    "# Getting all elements from list, each value must be decoded from bytes\n",
    "[x.decode(\"utf-8\") for x in r.lrange(\"mycourses\", 0, -1)]"
   ]
  },
  {
   "cell_type": "code",
   "execution_count": null,
   "metadata": {},
   "outputs": [],
   "source": [
    "# Storing somethig like a shop cart usong hashs\n",
    "r.hset(\"user:100:cart\", \"pid:25\", 5)\n",
    "r.hset(\"user:100:cart\", \"pid:33\", 1)"
   ]
  },
  {
   "cell_type": "code",
   "execution_count": null,
   "metadata": {},
   "outputs": [],
   "source": [
    "# Getting all cart contents\n",
    "result_bytes = r.hgetall(\"user:100:cart\")\n",
    "\n",
    "result = {}\n",
    "for key in result_bytes:\n",
    "    result[key.decode(\"utf-8\")] = result_bytes[key].decode(\"utf-8\")\n",
    "result"
   ]
  },
  {
   "cell_type": "code",
   "execution_count": null,
   "metadata": {},
   "outputs": [],
   "source": [
    "# Deleting all keys in the database\n",
    "r.flushdb()"
   ]
  },
  {
   "cell_type": "code",
   "execution_count": null,
   "metadata": {},
   "outputs": [],
   "source": []
  }
 ],
 "metadata": {
  "kernelspec": {
   "display_name": "Python 3",
   "language": "python",
   "name": "python3"
  },
  "language_info": {
   "codemirror_mode": {
    "name": "ipython",
    "version": 3
   },
   "file_extension": ".py",
   "mimetype": "text/x-python",
   "name": "python",
   "nbconvert_exporter": "python",
   "pygments_lexer": "ipython3",
   "version": "3.7.6"
  }
 },
 "nbformat": 4,
 "nbformat_minor": 4
}
